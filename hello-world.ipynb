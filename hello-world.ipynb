hello, world!
welcome to my first website! i am about to embark on the exiting journey of learning how to code. Would you join me?
